{
  "nbformat": 4,
  "nbformat_minor": 0,
  "metadata": {
    "colab": {
      "name": "sentiment_analysis_twitter.ipynb",
      "version": "0.3.2",
      "provenance": [],
      "include_colab_link": true
    },
    "kernelspec": {
      "name": "python3",
      "display_name": "Python 3"
    }
  },
  "cells": [
    {
      "cell_type": "markdown",
      "metadata": {
        "id": "view-in-github",
        "colab_type": "text"
      },
      "source": [
        "<a href=\"https://colab.research.google.com/github/Saurabh619/data_lit/blob/master/sentiment_analysis_twitter.ipynb\" target=\"_parent\"><img src=\"https://colab.research.google.com/assets/colab-badge.svg\" alt=\"Open In Colab\"/></a>"
      ]
    },
    {
      "metadata": {
        "id": "U_iDCXAUmfAJ",
        "colab_type": "code",
        "colab": {}
      },
      "cell_type": "code",
      "source": [
        "!pip install pandas\n",
        "!pip install tweepy\n",
        "!pip install vaderSentiment\n",
        "!pip install twython"
      ],
      "execution_count": 0,
      "outputs": []
    },
    {
      "metadata": {
        "id": "b4R0txTiscKd",
        "colab_type": "code",
        "colab": {}
      },
      "cell_type": "code",
      "source": [
        "import tweepy\n",
        "import pandas as pd\n",
        "from nltk.sentiment.vader import SentimentIntensityAnalyzer"
      ],
      "execution_count": 0,
      "outputs": []
    },
    {
      "metadata": {
        "id": "XRHBsWV1tfXy",
        "colab_type": "code",
        "colab": {}
      },
      "cell_type": "code",
      "source": [
        "#My Twitter API Authentication Variables\n",
        "consumer_key = 'InySQpmUKhCGO5gEnRi731q2C'\n",
        "consumer_secret = 'VxfFPgTSFyXglZOYfV7TboPifsERpTcWjHHN0fONWq3A7DFBhi'\n",
        "access_token = '570234787-n8hfy2SCalAPeZiiuBoAqfSuDCsXWE1zO9AXrsxo'\n",
        "access_token_secret = 'tm5C1Q7mQ3Ab6v2iVQ6c3uGBwkIaeQscz8whdeIN3MP9E'"
      ],
      "execution_count": 0,
      "outputs": []
    },
    {
      "metadata": {
        "id": "h2WUzXw3u5sH",
        "colab_type": "code",
        "colab": {
          "base_uri": "https://localhost:8080/",
          "height": 686
        },
        "outputId": "abe12f44-a75e-47c6-9cdf-9ac010a0825f"
      },
      "cell_type": "code",
      "source": [
        "auth = tweepy.OAuthHandler(consumer_key,consumer_secret)\n",
        "auth.set_access_token(access_token,access_token_secret)\n",
        "\n",
        "api = tweepy.API(auth)\n",
        "\n",
        "tweets = api.search('macbook air', count=200)\n",
        "\n",
        "data = pd.DataFrame(data=[tweet.text for tweet in tweets], columns=['Tweets'])\n",
        "\n",
        "display(data.head(20))\n",
        "\n",
        "print(tweets[0].created_at)\n"
      ],
      "execution_count": 21,
      "outputs": [
        {
          "output_type": "display_data",
          "data": {
            "text/html": [
              "<div>\n",
              "<style scoped>\n",
              "    .dataframe tbody tr th:only-of-type {\n",
              "        vertical-align: middle;\n",
              "    }\n",
              "\n",
              "    .dataframe tbody tr th {\n",
              "        vertical-align: top;\n",
              "    }\n",
              "\n",
              "    .dataframe thead th {\n",
              "        text-align: right;\n",
              "    }\n",
              "</style>\n",
              "<table border=\"1\" class=\"dataframe\">\n",
              "  <thead>\n",
              "    <tr style=\"text-align: right;\">\n",
              "      <th></th>\n",
              "      <th>Tweets</th>\n",
              "    </tr>\n",
              "  </thead>\n",
              "  <tbody>\n",
              "    <tr>\n",
              "      <th>0</th>\n",
              "      <td>毎度おおきに☆-( ^-ﾟ)v！\\n\\n今回は、動画とはかんけいあれへんけど～♫\\n\\nMa...</td>\n",
              "    </tr>\n",
              "    <tr>\n",
              "      <th>1</th>\n",
              "      <td>Apple MacBook Air A1465 11.6\" Laptop - 128GB S...</td>\n",
              "    </tr>\n",
              "    <tr>\n",
              "      <th>2</th>\n",
              "      <td>RT @present_card_jp: 【MacBook Air 13インチ】\\n\\n高性...</td>\n",
              "    </tr>\n",
              "    <tr>\n",
              "      <th>3</th>\n",
              "      <td>RT @mrfantasista3: 豪華プレゼント企画🎁\\nMacBook Air. \\n...</td>\n",
              "    </tr>\n",
              "    <tr>\n",
              "      <th>4</th>\n",
              "      <td>RT @yuchasobot: ⛩フォロワー2万人感謝プレゼント企画⛩\\n\\nこのツイートを...</td>\n",
              "    </tr>\n",
              "    <tr>\n",
              "      <th>5</th>\n",
              "      <td>RT Apple MacBook Air - Ordenador portátil de 1...</td>\n",
              "    </tr>\n",
              "    <tr>\n",
              "      <th>6</th>\n",
              "      <td>RT @victor_abarca: Llevo unos días haciéndole ...</td>\n",
              "    </tr>\n",
              "    <tr>\n",
              "      <th>7</th>\n",
              "      <td>@valuefp はい、この日もMacBook Airを注射器のおもちゃでガンガン叩かれそう...</td>\n",
              "    </tr>\n",
              "    <tr>\n",
              "      <th>8</th>\n",
              "      <td>やっぱ15インチMacBook proさん優秀やな…airだとビルドの時間がめちゃ増える</td>\n",
              "    </tr>\n",
              "    <tr>\n",
              "      <th>9</th>\n",
              "      <td>Macを購入しようと思うのですが、Macbookにするべきか、それともAirか、はたまたPr...</td>\n",
              "    </tr>\n",
              "    <tr>\n",
              "      <th>10</th>\n",
              "      <td>RT @vorhighseld1985: MacBook Air を1名様にプレゼント！\\n...</td>\n",
              "    </tr>\n",
              "    <tr>\n",
              "      <th>11</th>\n",
              "      <td>@wiissaall MacBook Air 👌🏾</td>\n",
              "    </tr>\n",
              "    <tr>\n",
              "      <th>12</th>\n",
              "      <td>RT @22Rinrin3: 子供社長プレゼント企画【第2弾】💻\\n\\n今回はmacbook...</td>\n",
              "    </tr>\n",
              "    <tr>\n",
              "      <th>13</th>\n",
              "      <td>ノマドでのドヤ感と、将来の4k編集を見越してMacBook Proが欲しいんですけど、\\n\\...</td>\n",
              "    </tr>\n",
              "    <tr>\n",
              "      <th>14</th>\n",
              "      <td>平日のノマド作業における持ち運び用にコンパクトな #MacBook Air （2014年モデ...</td>\n",
              "    </tr>\n",
              "    <tr>\n",
              "      <th>15</th>\n",
              "      <td>PCはパスワード入れないと起動しないようにしてるんだけど、前のMacBookはスリープ後にキ...</td>\n",
              "    </tr>\n",
              "    <tr>\n",
              "      <th>16</th>\n",
              "      <td>MacBook Air買った！</td>\n",
              "    </tr>\n",
              "    <tr>\n",
              "      <th>17</th>\n",
              "      <td>RT @mrfantasista3: 豪華プレゼント企画🎁\\nMacBook Air. \\n...</td>\n",
              "    </tr>\n",
              "    <tr>\n",
              "      <th>18</th>\n",
              "      <td>RT @yuchasobot: ⛩フォロワー2万人感謝プレゼント企画⛩\\n\\nこのツイートを...</td>\n",
              "    </tr>\n",
              "    <tr>\n",
              "      <th>19</th>\n",
              "      <td>RT @Tinktek: This gorgeous is available for a ...</td>\n",
              "    </tr>\n",
              "  </tbody>\n",
              "</table>\n",
              "</div>"
            ],
            "text/plain": [
              "                                               Tweets\n",
              "0   毎度おおきに☆-( ^-ﾟ)v！\\n\\n今回は、動画とはかんけいあれへんけど～♫\\n\\nMa...\n",
              "1   Apple MacBook Air A1465 11.6\" Laptop - 128GB S...\n",
              "2   RT @present_card_jp: 【MacBook Air 13インチ】\\n\\n高性...\n",
              "3   RT @mrfantasista3: 豪華プレゼント企画🎁\\nMacBook Air. \\n...\n",
              "4   RT @yuchasobot: ⛩フォロワー2万人感謝プレゼント企画⛩\\n\\nこのツイートを...\n",
              "5   RT Apple MacBook Air - Ordenador portátil de 1...\n",
              "6   RT @victor_abarca: Llevo unos días haciéndole ...\n",
              "7   @valuefp はい、この日もMacBook Airを注射器のおもちゃでガンガン叩かれそう...\n",
              "8        やっぱ15インチMacBook proさん優秀やな…airだとビルドの時間がめちゃ増える\n",
              "9   Macを購入しようと思うのですが、Macbookにするべきか、それともAirか、はたまたPr...\n",
              "10  RT @vorhighseld1985: MacBook Air を1名様にプレゼント！\\n...\n",
              "11                          @wiissaall MacBook Air 👌🏾\n",
              "12  RT @22Rinrin3: 子供社長プレゼント企画【第2弾】💻\\n\\n今回はmacbook...\n",
              "13  ノマドでのドヤ感と、将来の4k編集を見越してMacBook Proが欲しいんですけど、\\n\\...\n",
              "14  平日のノマド作業における持ち運び用にコンパクトな #MacBook Air （2014年モデ...\n",
              "15  PCはパスワード入れないと起動しないようにしてるんだけど、前のMacBookはスリープ後にキ...\n",
              "16                                    MacBook Air買った！\n",
              "17  RT @mrfantasista3: 豪華プレゼント企画🎁\\nMacBook Air. \\n...\n",
              "18  RT @yuchasobot: ⛩フォロワー2万人感謝プレゼント企画⛩\\n\\nこのツイートを...\n",
              "19  RT @Tinktek: This gorgeous is available for a ..."
            ]
          },
          "metadata": {
            "tags": []
          }
        },
        {
          "output_type": "stream",
          "text": [
            "2019-02-01 07:17:23\n"
          ],
          "name": "stdout"
        }
      ]
    },
    {
      "metadata": {
        "id": "o2mjlgl4tz2c",
        "colab_type": "code",
        "colab": {}
      },
      "cell_type": "code",
      "source": [
        "import nltk\n",
        "nltk.download('vader_lexicon')"
      ],
      "execution_count": 0,
      "outputs": []
    },
    {
      "metadata": {
        "id": "Ahc4YbVD2dcE",
        "colab_type": "code",
        "colab": {
          "base_uri": "https://localhost:8080/",
          "height": 136
        },
        "outputId": "36d256dc-a5bb-4eec-d662-c188c939651c"
      },
      "cell_type": "code",
      "source": [
        "sid = SentimentIntensityAnalyzer()\n",
        "\n",
        "listy = []\n",
        "\n",
        "for index, row in data.iterrows():\n",
        "  ss = sid.polarity_scores(row[\"Tweets\"])\n",
        "  listy.append(ss)\n",
        "  \n",
        "se =  pd.Series(listy)\n",
        "\n",
        "data[\"Polarity\"] = se.values\n",
        "\n",
        "s = data[\"Tweets\"]\n",
        "\n",
        "print(s[19])\n",
        "\n",
        "# display(data.head(100))\n"
      ],
      "execution_count": 24,
      "outputs": [
        {
          "output_type": "stream",
          "text": [
            "RT @Tinktek: This gorgeous is available for a big slash\n",
            "MacBook Air 2015\n",
            "Core i7\n",
            "512ssd\n",
            "8gb Ram \n",
            "\n",
            "Going for a discounted offer of N310,000…\n"
          ],
          "name": "stdout"
        }
      ]
    }
  ]
}